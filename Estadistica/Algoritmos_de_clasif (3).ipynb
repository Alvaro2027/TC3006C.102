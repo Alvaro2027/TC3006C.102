{
  "nbformat": 4,
  "nbformat_minor": 0,
  "metadata": {
    "colab": {
      "provenance": []
    },
    "kernelspec": {
      "name": "python3",
      "display_name": "Python 3"
    },
    "language_info": {
      "name": "python"
    }
  },
  "cells": [
    {
      "cell_type": "code",
      "execution_count": null,
      "metadata": {
        "id": "2YXQu9_Cly8-"
      },
      "outputs": [],
      "source": [
        "import pandas as pd\n",
        "import numpy as np\n",
        "import sklearn"
      ]
    },
    {
      "cell_type": "code",
      "source": [
        "import pandas as pd\n",
        "df=pd.read_csv(\"/content/Iris (1).csv\")"
      ],
      "metadata": {
        "id": "c1mZCzjJmXGh"
      },
      "execution_count": null,
      "outputs": []
    },
    {
      "cell_type": "code",
      "source": [
        "df.head()"
      ],
      "metadata": {
        "id": "QPdnsheLnYyN",
        "colab": {
          "base_uri": "https://localhost:8080/",
          "height": 206
        },
        "outputId": "1307d686-a77a-49f8-96f7-0d4dd28352d8"
      },
      "execution_count": null,
      "outputs": [
        {
          "output_type": "execute_result",
          "data": {
            "text/plain": [
              "   Id  SepalLengthCm  SepalWidthCm  PetalLengthCm  PetalWidthCm      Species\n",
              "0   1            5.1           3.5            1.4           0.2  Iris-setosa\n",
              "1   2            4.9           3.0            1.4           0.2  Iris-setosa\n",
              "2   3            4.7           3.2            1.3           0.2  Iris-setosa\n",
              "3   4            4.6           3.1            1.5           0.2  Iris-setosa\n",
              "4   5            5.0           3.6            1.4           0.2  Iris-setosa"
            ],
            "text/html": [
              "\n",
              "  <div id=\"df-aa6047ec-53e9-4402-831a-4a511618ff66\" class=\"colab-df-container\">\n",
              "    <div>\n",
              "<style scoped>\n",
              "    .dataframe tbody tr th:only-of-type {\n",
              "        vertical-align: middle;\n",
              "    }\n",
              "\n",
              "    .dataframe tbody tr th {\n",
              "        vertical-align: top;\n",
              "    }\n",
              "\n",
              "    .dataframe thead th {\n",
              "        text-align: right;\n",
              "    }\n",
              "</style>\n",
              "<table border=\"1\" class=\"dataframe\">\n",
              "  <thead>\n",
              "    <tr style=\"text-align: right;\">\n",
              "      <th></th>\n",
              "      <th>Id</th>\n",
              "      <th>SepalLengthCm</th>\n",
              "      <th>SepalWidthCm</th>\n",
              "      <th>PetalLengthCm</th>\n",
              "      <th>PetalWidthCm</th>\n",
              "      <th>Species</th>\n",
              "    </tr>\n",
              "  </thead>\n",
              "  <tbody>\n",
              "    <tr>\n",
              "      <th>0</th>\n",
              "      <td>1</td>\n",
              "      <td>5.1</td>\n",
              "      <td>3.5</td>\n",
              "      <td>1.4</td>\n",
              "      <td>0.2</td>\n",
              "      <td>Iris-setosa</td>\n",
              "    </tr>\n",
              "    <tr>\n",
              "      <th>1</th>\n",
              "      <td>2</td>\n",
              "      <td>4.9</td>\n",
              "      <td>3.0</td>\n",
              "      <td>1.4</td>\n",
              "      <td>0.2</td>\n",
              "      <td>Iris-setosa</td>\n",
              "    </tr>\n",
              "    <tr>\n",
              "      <th>2</th>\n",
              "      <td>3</td>\n",
              "      <td>4.7</td>\n",
              "      <td>3.2</td>\n",
              "      <td>1.3</td>\n",
              "      <td>0.2</td>\n",
              "      <td>Iris-setosa</td>\n",
              "    </tr>\n",
              "    <tr>\n",
              "      <th>3</th>\n",
              "      <td>4</td>\n",
              "      <td>4.6</td>\n",
              "      <td>3.1</td>\n",
              "      <td>1.5</td>\n",
              "      <td>0.2</td>\n",
              "      <td>Iris-setosa</td>\n",
              "    </tr>\n",
              "    <tr>\n",
              "      <th>4</th>\n",
              "      <td>5</td>\n",
              "      <td>5.0</td>\n",
              "      <td>3.6</td>\n",
              "      <td>1.4</td>\n",
              "      <td>0.2</td>\n",
              "      <td>Iris-setosa</td>\n",
              "    </tr>\n",
              "  </tbody>\n",
              "</table>\n",
              "</div>\n",
              "    <div class=\"colab-df-buttons\">\n",
              "\n",
              "  <div class=\"colab-df-container\">\n",
              "    <button class=\"colab-df-convert\" onclick=\"convertToInteractive('df-aa6047ec-53e9-4402-831a-4a511618ff66')\"\n",
              "            title=\"Convert this dataframe to an interactive table.\"\n",
              "            style=\"display:none;\">\n",
              "\n",
              "  <svg xmlns=\"http://www.w3.org/2000/svg\" height=\"24px\" viewBox=\"0 -960 960 960\">\n",
              "    <path d=\"M120-120v-720h720v720H120Zm60-500h600v-160H180v160Zm220 220h160v-160H400v160Zm0 220h160v-160H400v160ZM180-400h160v-160H180v160Zm440 0h160v-160H620v160ZM180-180h160v-160H180v160Zm440 0h160v-160H620v160Z\"/>\n",
              "  </svg>\n",
              "    </button>\n",
              "\n",
              "  <style>\n",
              "    .colab-df-container {\n",
              "      display:flex;\n",
              "      gap: 12px;\n",
              "    }\n",
              "\n",
              "    .colab-df-convert {\n",
              "      background-color: #E8F0FE;\n",
              "      border: none;\n",
              "      border-radius: 50%;\n",
              "      cursor: pointer;\n",
              "      display: none;\n",
              "      fill: #1967D2;\n",
              "      height: 32px;\n",
              "      padding: 0 0 0 0;\n",
              "      width: 32px;\n",
              "    }\n",
              "\n",
              "    .colab-df-convert:hover {\n",
              "      background-color: #E2EBFA;\n",
              "      box-shadow: 0px 1px 2px rgba(60, 64, 67, 0.3), 0px 1px 3px 1px rgba(60, 64, 67, 0.15);\n",
              "      fill: #174EA6;\n",
              "    }\n",
              "\n",
              "    .colab-df-buttons div {\n",
              "      margin-bottom: 4px;\n",
              "    }\n",
              "\n",
              "    [theme=dark] .colab-df-convert {\n",
              "      background-color: #3B4455;\n",
              "      fill: #D2E3FC;\n",
              "    }\n",
              "\n",
              "    [theme=dark] .colab-df-convert:hover {\n",
              "      background-color: #434B5C;\n",
              "      box-shadow: 0px 1px 3px 1px rgba(0, 0, 0, 0.15);\n",
              "      filter: drop-shadow(0px 1px 2px rgba(0, 0, 0, 0.3));\n",
              "      fill: #FFFFFF;\n",
              "    }\n",
              "  </style>\n",
              "\n",
              "    <script>\n",
              "      const buttonEl =\n",
              "        document.querySelector('#df-aa6047ec-53e9-4402-831a-4a511618ff66 button.colab-df-convert');\n",
              "      buttonEl.style.display =\n",
              "        google.colab.kernel.accessAllowed ? 'block' : 'none';\n",
              "\n",
              "      async function convertToInteractive(key) {\n",
              "        const element = document.querySelector('#df-aa6047ec-53e9-4402-831a-4a511618ff66');\n",
              "        const dataTable =\n",
              "          await google.colab.kernel.invokeFunction('convertToInteractive',\n",
              "                                                    [key], {});\n",
              "        if (!dataTable) return;\n",
              "\n",
              "        const docLinkHtml = 'Like what you see? Visit the ' +\n",
              "          '<a target=\"_blank\" href=https://colab.research.google.com/notebooks/data_table.ipynb>data table notebook</a>'\n",
              "          + ' to learn more about interactive tables.';\n",
              "        element.innerHTML = '';\n",
              "        dataTable['output_type'] = 'display_data';\n",
              "        await google.colab.output.renderOutput(dataTable, element);\n",
              "        const docLink = document.createElement('div');\n",
              "        docLink.innerHTML = docLinkHtml;\n",
              "        element.appendChild(docLink);\n",
              "      }\n",
              "    </script>\n",
              "  </div>\n",
              "\n",
              "\n",
              "<div id=\"df-e1208b07-f9bf-413f-893e-26e53323526f\">\n",
              "  <button class=\"colab-df-quickchart\" onclick=\"quickchart('df-e1208b07-f9bf-413f-893e-26e53323526f')\"\n",
              "            title=\"Suggest charts.\"\n",
              "            style=\"display:none;\">\n",
              "\n",
              "<svg xmlns=\"http://www.w3.org/2000/svg\" height=\"24px\"viewBox=\"0 0 24 24\"\n",
              "     width=\"24px\">\n",
              "    <g>\n",
              "        <path d=\"M19 3H5c-1.1 0-2 .9-2 2v14c0 1.1.9 2 2 2h14c1.1 0 2-.9 2-2V5c0-1.1-.9-2-2-2zM9 17H7v-7h2v7zm4 0h-2V7h2v10zm4 0h-2v-4h2v4z\"/>\n",
              "    </g>\n",
              "</svg>\n",
              "  </button>\n",
              "\n",
              "<style>\n",
              "  .colab-df-quickchart {\n",
              "    background-color: #E8F0FE;\n",
              "    border: none;\n",
              "    border-radius: 50%;\n",
              "    cursor: pointer;\n",
              "    display: none;\n",
              "    fill: #1967D2;\n",
              "    height: 32px;\n",
              "    padding: 0 0 0 0;\n",
              "    width: 32px;\n",
              "  }\n",
              "\n",
              "  .colab-df-quickchart:hover {\n",
              "    background-color: #E2EBFA;\n",
              "    box-shadow: 0px 1px 2px rgba(60, 64, 67, 0.3), 0px 1px 3px 1px rgba(60, 64, 67, 0.15);\n",
              "    fill: #174EA6;\n",
              "  }\n",
              "\n",
              "  [theme=dark] .colab-df-quickchart {\n",
              "    background-color: #3B4455;\n",
              "    fill: #D2E3FC;\n",
              "  }\n",
              "\n",
              "  [theme=dark] .colab-df-quickchart:hover {\n",
              "    background-color: #434B5C;\n",
              "    box-shadow: 0px 1px 3px 1px rgba(0, 0, 0, 0.15);\n",
              "    filter: drop-shadow(0px 1px 2px rgba(0, 0, 0, 0.3));\n",
              "    fill: #FFFFFF;\n",
              "  }\n",
              "</style>\n",
              "\n",
              "  <script>\n",
              "    async function quickchart(key) {\n",
              "      const charts = await google.colab.kernel.invokeFunction(\n",
              "          'suggestCharts', [key], {});\n",
              "    }\n",
              "    (() => {\n",
              "      let quickchartButtonEl =\n",
              "        document.querySelector('#df-e1208b07-f9bf-413f-893e-26e53323526f button');\n",
              "      quickchartButtonEl.style.display =\n",
              "        google.colab.kernel.accessAllowed ? 'block' : 'none';\n",
              "    })();\n",
              "  </script>\n",
              "</div>\n",
              "    </div>\n",
              "  </div>\n"
            ]
          },
          "metadata": {},
          "execution_count": 237
        }
      ]
    },
    {
      "cell_type": "code",
      "source": [
        "df=df.drop(['Id'], axis=1)"
      ],
      "metadata": {
        "id": "VbU2dmENneJs"
      },
      "execution_count": null,
      "outputs": []
    },
    {
      "cell_type": "code",
      "source": [
        "correlacion=df.corr()\n",
        "alta_corr=np.where((correlacion>0.95)&(correlacion<1))\n",
        "baja_corr=np.where((correlacion<-0.95)&(correlacion>-1))"
      ],
      "metadata": {
        "id": "Ob9bJOmTrz_5",
        "colab": {
          "base_uri": "https://localhost:8080/"
        },
        "outputId": "3c17f59a-3720-414a-d97f-b0f209c316ee"
      },
      "execution_count": null,
      "outputs": [
        {
          "output_type": "stream",
          "name": "stderr",
          "text": [
            "<ipython-input-239-7bd2e84af921>:1: FutureWarning: The default value of numeric_only in DataFrame.corr is deprecated. In a future version, it will default to False. Select only valid columns or specify the value of numeric_only to silence this warning.\n",
            "  correlacion=df.corr()\n"
          ]
        }
      ]
    },
    {
      "cell_type": "code",
      "source": [
        "#columns_to_scale = df.columns[:4]\n",
        "\n",
        "# Initialize the scaler\n",
        "#scaler = StandardScaler()\n",
        "\n",
        "# Apply standard scaling only to the selected columns\n",
        "#df_scaled = df.copy()  # Create a copy of the DataFrame to avoid modifying the original\n",
        "#df_scaled[columns_to_scale] = scaler.fit_transform(df[columns_to_scale])"
      ],
      "metadata": {
        "id": "8zMwbPf-Gbgl"
      },
      "execution_count": null,
      "outputs": []
    },
    {
      "cell_type": "markdown",
      "source": [
        "r cuadrada solo pare regresion lineal"
      ],
      "metadata": {
        "id": "lDb3kiOeEan7"
      }
    },
    {
      "cell_type": "code",
      "source": [
        "from sklearn.model_selection import train_test_split\n",
        "x_train, x_test, y_train, y_test=train_test_split(df.iloc[:, :4],df.iloc[:, 4], test_size=0.5, random_state=42)"
      ],
      "metadata": {
        "id": "L8e6m_mjnrc_"
      },
      "execution_count": null,
      "outputs": []
    },
    {
      "cell_type": "markdown",
      "source": [
        "### ANALISIS DISCRIMINANTE"
      ],
      "metadata": {
        "id": "1Q1SPpu4oGkM"
      }
    },
    {
      "cell_type": "code",
      "source": [
        "from sklearn.discriminant_analysis import LinearDiscriminantAnalysis\n",
        "adl_model=LinearDiscriminantAnalysis()\n",
        "adl_model.fit(x_train,y_train)"
      ],
      "metadata": {
        "colab": {
          "base_uri": "https://localhost:8080/",
          "height": 75
        },
        "id": "-XG2OZhIoEMj",
        "outputId": "23fc9d53-50e6-43df-df6d-3277f8b09399"
      },
      "execution_count": null,
      "outputs": [
        {
          "output_type": "execute_result",
          "data": {
            "text/plain": [
              "LinearDiscriminantAnalysis()"
            ],
            "text/html": [
              "<style>#sk-container-id-26 {color: black;background-color: white;}#sk-container-id-26 pre{padding: 0;}#sk-container-id-26 div.sk-toggleable {background-color: white;}#sk-container-id-26 label.sk-toggleable__label {cursor: pointer;display: block;width: 100%;margin-bottom: 0;padding: 0.3em;box-sizing: border-box;text-align: center;}#sk-container-id-26 label.sk-toggleable__label-arrow:before {content: \"▸\";float: left;margin-right: 0.25em;color: #696969;}#sk-container-id-26 label.sk-toggleable__label-arrow:hover:before {color: black;}#sk-container-id-26 div.sk-estimator:hover label.sk-toggleable__label-arrow:before {color: black;}#sk-container-id-26 div.sk-toggleable__content {max-height: 0;max-width: 0;overflow: hidden;text-align: left;background-color: #f0f8ff;}#sk-container-id-26 div.sk-toggleable__content pre {margin: 0.2em;color: black;border-radius: 0.25em;background-color: #f0f8ff;}#sk-container-id-26 input.sk-toggleable__control:checked~div.sk-toggleable__content {max-height: 200px;max-width: 100%;overflow: auto;}#sk-container-id-26 input.sk-toggleable__control:checked~label.sk-toggleable__label-arrow:before {content: \"▾\";}#sk-container-id-26 div.sk-estimator input.sk-toggleable__control:checked~label.sk-toggleable__label {background-color: #d4ebff;}#sk-container-id-26 div.sk-label input.sk-toggleable__control:checked~label.sk-toggleable__label {background-color: #d4ebff;}#sk-container-id-26 input.sk-hidden--visually {border: 0;clip: rect(1px 1px 1px 1px);clip: rect(1px, 1px, 1px, 1px);height: 1px;margin: -1px;overflow: hidden;padding: 0;position: absolute;width: 1px;}#sk-container-id-26 div.sk-estimator {font-family: monospace;background-color: #f0f8ff;border: 1px dotted black;border-radius: 0.25em;box-sizing: border-box;margin-bottom: 0.5em;}#sk-container-id-26 div.sk-estimator:hover {background-color: #d4ebff;}#sk-container-id-26 div.sk-parallel-item::after {content: \"\";width: 100%;border-bottom: 1px solid gray;flex-grow: 1;}#sk-container-id-26 div.sk-label:hover label.sk-toggleable__label {background-color: #d4ebff;}#sk-container-id-26 div.sk-serial::before {content: \"\";position: absolute;border-left: 1px solid gray;box-sizing: border-box;top: 0;bottom: 0;left: 50%;z-index: 0;}#sk-container-id-26 div.sk-serial {display: flex;flex-direction: column;align-items: center;background-color: white;padding-right: 0.2em;padding-left: 0.2em;position: relative;}#sk-container-id-26 div.sk-item {position: relative;z-index: 1;}#sk-container-id-26 div.sk-parallel {display: flex;align-items: stretch;justify-content: center;background-color: white;position: relative;}#sk-container-id-26 div.sk-item::before, #sk-container-id-26 div.sk-parallel-item::before {content: \"\";position: absolute;border-left: 1px solid gray;box-sizing: border-box;top: 0;bottom: 0;left: 50%;z-index: -1;}#sk-container-id-26 div.sk-parallel-item {display: flex;flex-direction: column;z-index: 1;position: relative;background-color: white;}#sk-container-id-26 div.sk-parallel-item:first-child::after {align-self: flex-end;width: 50%;}#sk-container-id-26 div.sk-parallel-item:last-child::after {align-self: flex-start;width: 50%;}#sk-container-id-26 div.sk-parallel-item:only-child::after {width: 0;}#sk-container-id-26 div.sk-dashed-wrapped {border: 1px dashed gray;margin: 0 0.4em 0.5em 0.4em;box-sizing: border-box;padding-bottom: 0.4em;background-color: white;}#sk-container-id-26 div.sk-label label {font-family: monospace;font-weight: bold;display: inline-block;line-height: 1.2em;}#sk-container-id-26 div.sk-label-container {text-align: center;}#sk-container-id-26 div.sk-container {/* jupyter's `normalize.less` sets `[hidden] { display: none; }` but bootstrap.min.css set `[hidden] { display: none !important; }` so we also need the `!important` here to be able to override the default hidden behavior on the sphinx rendered scikit-learn.org. See: https://github.com/scikit-learn/scikit-learn/issues/21755 */display: inline-block !important;position: relative;}#sk-container-id-26 div.sk-text-repr-fallback {display: none;}</style><div id=\"sk-container-id-26\" class=\"sk-top-container\"><div class=\"sk-text-repr-fallback\"><pre>LinearDiscriminantAnalysis()</pre><b>In a Jupyter environment, please rerun this cell to show the HTML representation or trust the notebook. <br />On GitHub, the HTML representation is unable to render, please try loading this page with nbviewer.org.</b></div><div class=\"sk-container\" hidden><div class=\"sk-item\"><div class=\"sk-estimator sk-toggleable\"><input class=\"sk-toggleable__control sk-hidden--visually\" id=\"sk-estimator-id-28\" type=\"checkbox\" checked><label for=\"sk-estimator-id-28\" class=\"sk-toggleable__label sk-toggleable__label-arrow\">LinearDiscriminantAnalysis</label><div class=\"sk-toggleable__content\"><pre>LinearDiscriminantAnalysis()</pre></div></div></div></div></div>"
            ]
          },
          "metadata": {},
          "execution_count": 242
        }
      ]
    },
    {
      "cell_type": "code",
      "source": [
        "y_pred=adl_model.predict(x_test)\n",
        "print(y_pred)"
      ],
      "metadata": {
        "id": "fzvmE2fRoPtm"
      },
      "execution_count": null,
      "outputs": []
    },
    {
      "cell_type": "code",
      "source": [
        "from sklearn.metrics import accuracy_score\n",
        "exactitud=accuracy_score(y_test, y_pred)\n",
        "print(exactitud)"
      ],
      "metadata": {
        "colab": {
          "base_uri": "https://localhost:8080/"
        },
        "id": "I_YAlYT2oeNp",
        "outputId": "14842d6a-ce37-40cf-e01d-418cd3671bcd"
      },
      "execution_count": null,
      "outputs": [
        {
          "output_type": "stream",
          "name": "stdout",
          "text": [
            "0.9866666666666667\n"
          ]
        }
      ]
    },
    {
      "cell_type": "code",
      "source": [
        "from sklearn.linear_model import LogisticRegression\n",
        "from sklearn.pipeline import make_pipeline\n",
        "from sklearn.preprocessing import StandardScaler\n",
        "from sklearn.metrics import confusion_matrix\n",
        "confusion_matrix(y_test, y_pred)"
      ],
      "metadata": {
        "colab": {
          "base_uri": "https://localhost:8080/"
        },
        "id": "7hr18bB_Slrd",
        "outputId": "12c98f23-31e8-4df5-b2e1-2767b9c87e78"
      },
      "execution_count": null,
      "outputs": [
        {
          "output_type": "execute_result",
          "data": {
            "text/plain": [
              "array([[29,  0,  0],\n",
              "       [ 0, 23,  0],\n",
              "       [ 0,  1, 22]])"
            ]
          },
          "metadata": {},
          "execution_count": 245
        }
      ]
    },
    {
      "cell_type": "code",
      "source": [
        "from sklearn.metrics import ConfusionMatrixDisplay, confusion_matrix\n",
        "\n",
        "cm = confusion_matrix(y_test, y_pred)\n",
        "\n",
        "cm_display = ConfusionMatrixDisplay(cm).plot()"
      ],
      "metadata": {
        "colab": {
          "base_uri": "https://localhost:8080/",
          "height": 449
        },
        "id": "w7qyqGgrSpNP",
        "outputId": "c32737cb-5bf1-4584-f887-b8d7ce4950bd"
      },
      "execution_count": null,
      "outputs": [
        {
          "output_type": "display_data",
          "data": {
            "text/plain": [
              "<Figure size 640x480 with 2 Axes>"
            ],
            "image/png": "[encoded data removed]"
          },
          "metadata": {}
        }
      ]
    },
    {
      "cell_type": "markdown",
      "source": [
        "### BAYES"
      ],
      "metadata": {
        "id": "-MQEb6_zpAWA"
      }
    },
    {
      "cell_type": "code",
      "source": [
        "from sklearn.naive_bayes import GaussianNB\n",
        "nb=GaussianNB()\n",
        "nb.fit(x_train, y_train)"
      ],
      "metadata": {
        "colab": {
          "base_uri": "https://localhost:8080/",
          "height": 75
        },
        "id": "Xz5UPFGcpCLM",
        "outputId": "c386e0b0-ae30-448b-fd36-84f72b6b9e08"
      },
      "execution_count": null,
      "outputs": [
        {
          "output_type": "execute_result",
          "data": {
            "text/plain": [
              "GaussianNB()"
            ],
            "text/html": [
              "<style>#sk-container-id-27 {color: black;background-color: white;}#sk-container-id-27 pre{padding: 0;}#sk-container-id-27 div.sk-toggleable {background-color: white;}#sk-container-id-27 label.sk-toggleable__label {cursor: pointer;display: block;width: 100%;margin-bottom: 0;padding: 0.3em;box-sizing: border-box;text-align: center;}#sk-container-id-27 label.sk-toggleable__label-arrow:before {content: \"▸\";float: left;margin-right: 0.25em;color: #696969;}#sk-container-id-27 label.sk-toggleable__label-arrow:hover:before {color: black;}#sk-container-id-27 div.sk-estimator:hover label.sk-toggleable__label-arrow:before {color: black;}#sk-container-id-27 div.sk-toggleable__content {max-height: 0;max-width: 0;overflow: hidden;text-align: left;background-color: #f0f8ff;}#sk-container-id-27 div.sk-toggleable__content pre {margin: 0.2em;color: black;border-radius: 0.25em;background-color: #f0f8ff;}#sk-container-id-27 input.sk-toggleable__control:checked~div.sk-toggleable__content {max-height: 200px;max-width: 100%;overflow: auto;}#sk-container-id-27 input.sk-toggleable__control:checked~label.sk-toggleable__label-arrow:before {content: \"▾\";}#sk-container-id-27 div.sk-estimator input.sk-toggleable__control:checked~label.sk-toggleable__label {background-color: #d4ebff;}#sk-container-id-27 div.sk-label input.sk-toggleable__control:checked~label.sk-toggleable__label {background-color: #d4ebff;}#sk-container-id-27 input.sk-hidden--visually {border: 0;clip: rect(1px 1px 1px 1px);clip: rect(1px, 1px, 1px, 1px);height: 1px;margin: -1px;overflow: hidden;padding: 0;position: absolute;width: 1px;}#sk-container-id-27 div.sk-estimator {font-family: monospace;background-color: #f0f8ff;border: 1px dotted black;border-radius: 0.25em;box-sizing: border-box;margin-bottom: 0.5em;}#sk-container-id-27 div.sk-estimator:hover {background-color: #d4ebff;}#sk-container-id-27 div.sk-parallel-item::after {content: \"\";width: 100%;border-bottom: 1px solid gray;flex-grow: 1;}#sk-container-id-27 div.sk-label:hover label.sk-toggleable__label {background-color: #d4ebff;}#sk-container-id-27 div.sk-serial::before {content: \"\";position: absolute;border-left: 1px solid gray;box-sizing: border-box;top: 0;bottom: 0;left: 50%;z-index: 0;}#sk-container-id-27 div.sk-serial {display: flex;flex-direction: column;align-items: center;background-color: white;padding-right: 0.2em;padding-left: 0.2em;position: relative;}#sk-container-id-27 div.sk-item {position: relative;z-index: 1;}#sk-container-id-27 div.sk-parallel {display: flex;align-items: stretch;justify-content: center;background-color: white;position: relative;}#sk-container-id-27 div.sk-item::before, #sk-container-id-27 div.sk-parallel-item::before {content: \"\";position: absolute;border-left: 1px solid gray;box-sizing: border-box;top: 0;bottom: 0;left: 50%;z-index: -1;}#sk-container-id-27 div.sk-parallel-item {display: flex;flex-direction: column;z-index: 1;position: relative;background-color: white;}#sk-container-id-27 div.sk-parallel-item:first-child::after {align-self: flex-end;width: 50%;}#sk-container-id-27 div.sk-parallel-item:last-child::after {align-self: flex-start;width: 50%;}#sk-container-id-27 div.sk-parallel-item:only-child::after {width: 0;}#sk-container-id-27 div.sk-dashed-wrapped {border: 1px dashed gray;margin: 0 0.4em 0.5em 0.4em;box-sizing: border-box;padding-bottom: 0.4em;background-color: white;}#sk-container-id-27 div.sk-label label {font-family: monospace;font-weight: bold;display: inline-block;line-height: 1.2em;}#sk-container-id-27 div.sk-label-container {text-align: center;}#sk-container-id-27 div.sk-container {/* jupyter's `normalize.less` sets `[hidden] { display: none; }` but bootstrap.min.css set `[hidden] { display: none !important; }` so we also need the `!important` here to be able to override the default hidden behavior on the sphinx rendered scikit-learn.org. See: https://github.com/scikit-learn/scikit-learn/issues/21755 */display: inline-block !important;position: relative;}#sk-container-id-27 div.sk-text-repr-fallback {display: none;}</style><div id=\"sk-container-id-27\" class=\"sk-top-container\"><div class=\"sk-text-repr-fallback\"><pre>GaussianNB()</pre><b>In a Jupyter environment, please rerun this cell to show the HTML representation or trust the notebook. <br />On GitHub, the HTML representation is unable to render, please try loading this page with nbviewer.org.</b></div><div class=\"sk-container\" hidden><div class=\"sk-item\"><div class=\"sk-estimator sk-toggleable\"><input class=\"sk-toggleable__control sk-hidden--visually\" id=\"sk-estimator-id-29\" type=\"checkbox\" checked><label for=\"sk-estimator-id-29\" class=\"sk-toggleable__label sk-toggleable__label-arrow\">GaussianNB</label><div class=\"sk-toggleable__content\"><pre>GaussianNB()</pre></div></div></div></div></div>"
            ]
          },
          "metadata": {},
          "execution_count": 247
        }
      ]
    },
    {
      "cell_type": "code",
      "source": [
        "y_pred=nb.predict(x_test)\n",
        "print(y_pred)"
      ],
      "metadata": {
        "id": "7tny0xCxpF_P",
        "colab": {
          "base_uri": "https://localhost:8080/"
        },
        "outputId": "5bf54f0a-577b-4ca3-ad30-ce508410cef2"
      },
      "execution_count": null,
      "outputs": [
        {
          "output_type": "stream",
          "name": "stdout",
          "text": [
            "['Iris-versicolor' 'Iris-setosa' 'Iris-virginica' 'Iris-versicolor'\n",
            " 'Iris-versicolor' 'Iris-setosa' 'Iris-versicolor' 'Iris-virginica'\n",
            " 'Iris-versicolor' 'Iris-versicolor' 'Iris-virginica' 'Iris-setosa'\n",
            " 'Iris-setosa' 'Iris-setosa' 'Iris-setosa' 'Iris-versicolor'\n",
            " 'Iris-virginica' 'Iris-versicolor' 'Iris-versicolor' 'Iris-virginica'\n",
            " 'Iris-setosa' 'Iris-virginica' 'Iris-setosa' 'Iris-virginica'\n",
            " 'Iris-virginica' 'Iris-virginica' 'Iris-virginica' 'Iris-virginica'\n",
            " 'Iris-setosa' 'Iris-setosa' 'Iris-setosa' 'Iris-setosa' 'Iris-versicolor'\n",
            " 'Iris-setosa' 'Iris-setosa' 'Iris-virginica' 'Iris-versicolor'\n",
            " 'Iris-setosa' 'Iris-setosa' 'Iris-setosa' 'Iris-virginica'\n",
            " 'Iris-versicolor' 'Iris-versicolor' 'Iris-setosa' 'Iris-setosa'\n",
            " 'Iris-versicolor' 'Iris-versicolor' 'Iris-virginica' 'Iris-versicolor'\n",
            " 'Iris-virginica' 'Iris-versicolor' 'Iris-virginica' 'Iris-versicolor'\n",
            " 'Iris-setosa' 'Iris-virginica' 'Iris-versicolor' 'Iris-setosa'\n",
            " 'Iris-setosa' 'Iris-setosa' 'Iris-versicolor' 'Iris-virginica'\n",
            " 'Iris-setosa' 'Iris-setosa' 'Iris-setosa' 'Iris-versicolor' 'Iris-setosa'\n",
            " 'Iris-versicolor' 'Iris-virginica' 'Iris-setosa' 'Iris-versicolor'\n",
            " 'Iris-virginica' 'Iris-setosa' 'Iris-virginica' 'Iris-virginica'\n",
            " 'Iris-versicolor']\n"
          ]
        }
      ]
    },
    {
      "cell_type": "code",
      "source": [
        "print(\"exactitud del modelo\", nb.score(x_test,y_test))"
      ],
      "metadata": {
        "colab": {
          "base_uri": "https://localhost:8080/"
        },
        "id": "v94nIFp8pHRf",
        "outputId": "9a4d1d6e-28d4-41db-c6b9-041bd09234e8"
      },
      "execution_count": null,
      "outputs": [
        {
          "output_type": "stream",
          "name": "stdout",
          "text": [
            "exactitud del modelo 0.9866666666666667\n"
          ]
        }
      ]
    },
    {
      "cell_type": "code",
      "source": [
        "# aqui comparo manualmente las prediccion y las de prueba para verificar que si tenga 100% de exactitud.\n",
        "for pred, true in zip(y_pred, y_test.values):\n",
        "    print(f\"Predicted: {pred} | True: {true} | Match: {pred == true}\")"
      ],
      "metadata": {
        "colab": {
          "base_uri": "https://localhost:8080/"
        },
        "id": "BrEyaOycJGY5",
        "outputId": "cc4a7c45-fa51-47a1-e03e-2c32e58bbba6"
      },
      "execution_count": null,
      "outputs": [
        {
          "output_type": "stream",
          "name": "stdout",
          "text": [
            "Predicted: Iris-versicolor | True: Iris-versicolor | Match: True\n",
            "Predicted: Iris-setosa | True: Iris-setosa | Match: True\n",
            "Predicted: Iris-virginica | True: Iris-virginica | Match: True\n",
            "Predicted: Iris-versicolor | True: Iris-versicolor | Match: True\n",
            "Predicted: Iris-versicolor | True: Iris-versicolor | Match: True\n",
            "Predicted: Iris-setosa | True: Iris-setosa | Match: True\n",
            "Predicted: Iris-versicolor | True: Iris-versicolor | Match: True\n",
            "Predicted: Iris-virginica | True: Iris-virginica | Match: True\n",
            "Predicted: Iris-versicolor | True: Iris-versicolor | Match: True\n",
            "Predicted: Iris-versicolor | True: Iris-versicolor | Match: True\n",
            "Predicted: Iris-virginica | True: Iris-virginica | Match: True\n",
            "Predicted: Iris-setosa | True: Iris-setosa | Match: True\n",
            "Predicted: Iris-setosa | True: Iris-setosa | Match: True\n",
            "Predicted: Iris-setosa | True: Iris-setosa | Match: True\n",
            "Predicted: Iris-setosa | True: Iris-setosa | Match: True\n",
            "Predicted: Iris-versicolor | True: Iris-versicolor | Match: True\n",
            "Predicted: Iris-virginica | True: Iris-virginica | Match: True\n",
            "Predicted: Iris-versicolor | True: Iris-versicolor | Match: True\n",
            "Predicted: Iris-versicolor | True: Iris-versicolor | Match: True\n",
            "Predicted: Iris-virginica | True: Iris-virginica | Match: True\n",
            "Predicted: Iris-setosa | True: Iris-setosa | Match: True\n",
            "Predicted: Iris-virginica | True: Iris-virginica | Match: True\n",
            "Predicted: Iris-setosa | True: Iris-setosa | Match: True\n",
            "Predicted: Iris-virginica | True: Iris-virginica | Match: True\n",
            "Predicted: Iris-virginica | True: Iris-virginica | Match: True\n",
            "Predicted: Iris-virginica | True: Iris-virginica | Match: True\n",
            "Predicted: Iris-virginica | True: Iris-virginica | Match: True\n",
            "Predicted: Iris-virginica | True: Iris-virginica | Match: True\n",
            "Predicted: Iris-setosa | True: Iris-setosa | Match: True\n",
            "Predicted: Iris-setosa | True: Iris-setosa | Match: True\n",
            "Predicted: Iris-setosa | True: Iris-setosa | Match: True\n",
            "Predicted: Iris-setosa | True: Iris-setosa | Match: True\n",
            "Predicted: Iris-versicolor | True: Iris-versicolor | Match: True\n",
            "Predicted: Iris-setosa | True: Iris-setosa | Match: True\n",
            "Predicted: Iris-setosa | True: Iris-setosa | Match: True\n",
            "Predicted: Iris-virginica | True: Iris-virginica | Match: True\n",
            "Predicted: Iris-versicolor | True: Iris-versicolor | Match: True\n",
            "Predicted: Iris-setosa | True: Iris-setosa | Match: True\n",
            "Predicted: Iris-setosa | True: Iris-setosa | Match: True\n",
            "Predicted: Iris-setosa | True: Iris-setosa | Match: True\n",
            "Predicted: Iris-virginica | True: Iris-virginica | Match: True\n",
            "Predicted: Iris-versicolor | True: Iris-versicolor | Match: True\n",
            "Predicted: Iris-versicolor | True: Iris-versicolor | Match: True\n",
            "Predicted: Iris-setosa | True: Iris-setosa | Match: True\n",
            "Predicted: Iris-setosa | True: Iris-setosa | Match: True\n",
            "Predicted: Iris-versicolor | True: Iris-versicolor | Match: True\n",
            "Predicted: Iris-versicolor | True: Iris-virginica | Match: False\n",
            "Predicted: Iris-virginica | True: Iris-virginica | Match: True\n",
            "Predicted: Iris-versicolor | True: Iris-versicolor | Match: True\n",
            "Predicted: Iris-virginica | True: Iris-virginica | Match: True\n",
            "Predicted: Iris-versicolor | True: Iris-versicolor | Match: True\n",
            "Predicted: Iris-virginica | True: Iris-virginica | Match: True\n",
            "Predicted: Iris-versicolor | True: Iris-versicolor | Match: True\n",
            "Predicted: Iris-setosa | True: Iris-setosa | Match: True\n",
            "Predicted: Iris-virginica | True: Iris-virginica | Match: True\n",
            "Predicted: Iris-versicolor | True: Iris-versicolor | Match: True\n",
            "Predicted: Iris-setosa | True: Iris-setosa | Match: True\n",
            "Predicted: Iris-setosa | True: Iris-setosa | Match: True\n",
            "Predicted: Iris-setosa | True: Iris-setosa | Match: True\n",
            "Predicted: Iris-versicolor | True: Iris-versicolor | Match: True\n",
            "Predicted: Iris-virginica | True: Iris-virginica | Match: True\n",
            "Predicted: Iris-setosa | True: Iris-setosa | Match: True\n",
            "Predicted: Iris-setosa | True: Iris-setosa | Match: True\n",
            "Predicted: Iris-setosa | True: Iris-setosa | Match: True\n",
            "Predicted: Iris-versicolor | True: Iris-versicolor | Match: True\n",
            "Predicted: Iris-setosa | True: Iris-setosa | Match: True\n",
            "Predicted: Iris-versicolor | True: Iris-versicolor | Match: True\n",
            "Predicted: Iris-virginica | True: Iris-virginica | Match: True\n",
            "Predicted: Iris-setosa | True: Iris-setosa | Match: True\n",
            "Predicted: Iris-versicolor | True: Iris-versicolor | Match: True\n",
            "Predicted: Iris-virginica | True: Iris-virginica | Match: True\n",
            "Predicted: Iris-setosa | True: Iris-setosa | Match: True\n",
            "Predicted: Iris-virginica | True: Iris-virginica | Match: True\n",
            "Predicted: Iris-virginica | True: Iris-virginica | Match: True\n",
            "Predicted: Iris-versicolor | True: Iris-versicolor | Match: True\n"
          ]
        }
      ]
    },
    {
      "cell_type": "code",
      "source": [
        "from sklearn.linear_model import LogisticRegression\n",
        "from sklearn.pipeline import make_pipeline\n",
        "from sklearn.preprocessing import StandardScaler\n",
        "from sklearn.metrics import confusion_matrix\n",
        "confusion_matrix(y_test, y_pred)"
      ],
      "metadata": {
        "colab": {
          "base_uri": "https://localhost:8080/"
        },
        "id": "HuKc6JM1ObSo",
        "outputId": "a18f0a09-59c0-4141-d9ca-af7eb5f411b8"
      },
      "execution_count": null,
      "outputs": [
        {
          "output_type": "execute_result",
          "data": {
            "text/plain": [
              "array([[29,  0,  0],\n",
              "       [ 0, 23,  0],\n",
              "       [ 0,  1, 22]])"
            ]
          },
          "metadata": {},
          "execution_count": 251
        }
      ]
    },
    {
      "cell_type": "code",
      "source": [
        "from sklearn.metrics import ConfusionMatrixDisplay, confusion_matrix\n",
        "\n",
        "cm = confusion_matrix(y_test, y_pred)\n",
        "\n",
        "cm_display = ConfusionMatrixDisplay(cm).plot()"
      ],
      "metadata": {
        "colab": {
          "base_uri": "https://localhost:8080/",
          "height": 449
        },
        "id": "F91UH6UVO0KD",
        "outputId": "fbcbd1ed-9964-4f8e-aafc-f75fa5e2fb96"
      },
      "execution_count": null,
      "outputs": [
        {
          "output_type": "display_data",
          "data": {
            "text/plain": [
              "<Figure size 640x480 with 2 Axes>"
            ],
            "image/png": "[encoded data removed]"
          },
          "metadata": {}
        }
      ]
    },
    {
      "cell_type": "markdown",
      "source": [
        "regresion logistica"
      ],
      "metadata": {
        "id": "BZFOvzt-aFb6"
      }
    },
    {
      "cell_type": "code",
      "source": [
        "dummies=pd.get_dummies(df['Species'],prefix='Species')"
      ],
      "metadata": {
        "id": "Bd_E_M_cFrD1"
      },
      "execution_count": null,
      "outputs": []
    },
    {
      "cell_type": "code",
      "source": [
        "df=pd.concat([df,dummies],axis=1)"
      ],
      "metadata": {
        "id": "1TggTq_SFwAh"
      },
      "execution_count": null,
      "outputs": []
    },
    {
      "cell_type": "code",
      "source": [
        "df.rename(columns={'Species_Iris-setosa':'Species_setosa'},inplace=True)\n",
        "df.rename(columns={'Species_Iris-versicolor':'Species_versicolor'},inplace=True)\n",
        "df.rename(columns={'Species_Iris-virginica':'Species_virginica'},inplace=True)\n",
        "df.drop('Species',axis=1,inplace=True)"
      ],
      "metadata": {
        "id": "ZwhV05P9F0Ko"
      },
      "execution_count": null,
      "outputs": []
    },
    {
      "cell_type": "code",
      "source": [
        "#escalar los datos entre 0 y 1\n",
        "from sklearn.preprocessing import StandardScaler\n",
        "scaler=StandardScaler()\n",
        "df_estandar =scaler.fit_transform(df)\n",
        "df_estandar=pd.DataFrame(df_estandar,columns=df.columns)"
      ],
      "metadata": {
        "id": "d-r1qOFZG-B4"
      },
      "execution_count": null,
      "outputs": []
    },
    {
      "cell_type": "code",
      "source": [
        "from sklearn.model_selection import train_test_split\n",
        "x_train, x_test, y_train, y_test=train_test_split(df_estandar.iloc[:, :4],df.iloc[:, 4], test_size=0.2, random_state=42)"
      ],
      "metadata": {
        "id": "82NpItKxLT3F"
      },
      "execution_count": null,
      "outputs": []
    },
    {
      "cell_type": "code",
      "source": [
        "from numpy.random.mtrand import logistic\n",
        "from sklearn.linear_model import LogisticRegression\n",
        "logistic= LogisticRegression()\n",
        "logistic.fit(x_train,y_train)\n",
        "y_predict=logistic.predict(x_test)"
      ],
      "metadata": {
        "id": "A5Sfjzq4aHbi"
      },
      "execution_count": null,
      "outputs": []
    },
    {
      "cell_type": "code",
      "source": [
        "import statsmodels.api as sm\n",
        "x_train=sm.add_constant(x_train)\n",
        "modelo= sm.Logit(endog=y_train, exog=x_train)\n",
        "modelo= modelo.fit()\n",
        "print(modelo.summary())"
      ],
      "metadata": {
        "colab": {
          "base_uri": "https://localhost:8080/"
        },
        "id": "1p-2TfD_aILq",
        "outputId": "7d48ec96-800d-411c-b1f6-61fbb512a479"
      },
      "execution_count": null,
      "outputs": [
        {
          "output_type": "stream",
          "name": "stdout",
          "text": [
            "Warning: Maximum number of iterations has been exceeded.\n",
            "         Current function value: inf\n",
            "         Iterations: 35\n",
            "                           Logit Regression Results                           \n",
            "==============================================================================\n",
            "Dep. Variable:         Species_setosa   No. Observations:                  120\n",
            "Model:                          Logit   Df Residuals:                      115\n",
            "Method:                           MLE   Df Model:                            4\n",
            "Date:                Thu, 24 Aug 2023   Pseudo R-squ.:                     inf\n",
            "Time:                        06:47:17   Log-Likelihood:                   -inf\n",
            "converged:                      False   LL-Null:                        0.0000\n",
            "Covariance Type:            nonrobust   LLR p-value:                     1.000\n",
            "=================================================================================\n",
            "                    coef    std err          z      P>|z|      [0.025      0.975]\n",
            "---------------------------------------------------------------------------------\n",
            "const           -21.8698   5.82e+06  -3.76e-06      1.000   -1.14e+07    1.14e+07\n",
            "SepalLengthCm    -4.8016    1.9e+07  -2.53e-07      1.000   -3.72e+07    3.72e+07\n",
            "SepalWidthCm     18.3627   5.47e+06   3.36e-06      1.000   -1.07e+07    1.07e+07\n",
            "PetalLengthCm   -29.7848    1.4e+07  -2.14e-06      1.000   -2.73e+07    2.73e+07\n",
            "PetalWidthCm    -13.0050   7.94e+06  -1.64e-06      1.000   -1.56e+07    1.56e+07\n",
            "=================================================================================\n",
            "\n",
            "Complete Separation: The results show that there iscomplete separation or perfect prediction.\n",
            "In this case the Maximum Likelihood Estimator does not exist and the parameters\n",
            "are not identified.\n"
          ]
        },
        {
          "output_type": "stream",
          "name": "stderr",
          "text": [
            "/usr/local/lib/python3.10/dist-packages/statsmodels/discrete/discrete_model.py:227: PerfectSeparationWarning: Perfect separation or prediction detected, parameter may not be identified\n",
            "  warnings.warn(msg, category=PerfectSeparationWarning)\n",
            "/usr/local/lib/python3.10/dist-packages/statsmodels/discrete/discrete_model.py:227: PerfectSeparationWarning: Perfect separation or prediction detected, parameter may not be identified\n",
            "  warnings.warn(msg, category=PerfectSeparationWarning)\n",
            "/usr/local/lib/python3.10/dist-packages/statsmodels/discrete/discrete_model.py:2383: RuntimeWarning: overflow encountered in exp\n",
            "  return 1/(1+np.exp(-X))\n",
            "/usr/local/lib/python3.10/dist-packages/statsmodels/discrete/discrete_model.py:2441: RuntimeWarning: divide by zero encountered in log\n",
            "  return np.sum(np.log(self.cdf(q * linpred)))\n",
            "/usr/local/lib/python3.10/dist-packages/statsmodels/base/model.py:607: ConvergenceWarning: Maximum Likelihood optimization failed to converge. Check mle_retvals\n",
            "  warnings.warn(\"Maximum Likelihood optimization failed to \"\n",
            "/usr/local/lib/python3.10/dist-packages/statsmodels/base/model.py:595: HessianInversionWarning: Inverting hessian failed, no bse or cov_params available\n",
            "  warnings.warn('Inverting hessian failed, no bse or cov_params '\n",
            "/usr/local/lib/python3.10/dist-packages/statsmodels/base/model.py:595: HessianInversionWarning: Inverting hessian failed, no bse or cov_params available\n",
            "  warnings.warn('Inverting hessian failed, no bse or cov_params '\n"
          ]
        }
      ]
    },
    {
      "cell_type": "code",
      "source": [
        "from sklearn.linear_model import LogisticRegression\n",
        "from sklearn.pipeline import make_pipeline\n",
        "from sklearn.preprocessing import StandardScaler\n",
        "from sklearn.metrics import confusion_matrix\n",
        "confusion_matrix(y_test, y_predict)"
      ],
      "metadata": {
        "colab": {
          "base_uri": "https://localhost:8080/"
        },
        "id": "G5fTpdQ5TfVE",
        "outputId": "ad7a00e4-1893-4f66-c881-6eec2c60d1d6"
      },
      "execution_count": null,
      "outputs": [
        {
          "output_type": "execute_result",
          "data": {
            "text/plain": [
              "array([[20,  0],\n",
              "       [ 0, 10]])"
            ]
          },
          "metadata": {},
          "execution_count": 261
        }
      ]
    },
    {
      "cell_type": "code",
      "source": [
        "from sklearn.metrics import ConfusionMatrixDisplay, confusion_matrix\n",
        "\n",
        "cm = confusion_matrix(y_test, y_predict)\n",
        "\n",
        "cm_display = ConfusionMatrixDisplay(cm).plot()"
      ],
      "metadata": {
        "id": "GYtf54TUT0Lx",
        "outputId": "7b31089a-0587-4615-e7e4-718755605def",
        "colab": {
          "base_uri": "https://localhost:8080/",
          "height": 455
        }
      },
      "execution_count": null,
      "outputs": [
        {
          "output_type": "display_data",
          "data": {
            "text/plain": [
              "<Figure size 640x480 with 2 Axes>"
            ],
            "image/png": "[encoded data removed]"
          },
          "metadata": {}
        }
      ]
    },
    {
      "cell_type": "markdown",
      "source": [
        "Antes de ir a la conclusión, quiero explicar los 3 modelos y cuando yo creo que son utiles para diferentes casos.\n",
        "\n",
        "**Regresión Logística**:\n",
        "La regresión logística se utiliza para problemas de clasificación binaria, es decir, cuando quieres predecir si algo pertenece a una de dos categorías mutuamente excluyentes\n",
        "Ventajas: Es una técnica simple y efectiva, fácil de entender y de implementar. Puede manejar características continuas o categóricas y es robusta incluso cuando algunas de las suposiciones no se cumplen.\n",
        "\n",
        "**Análisis Bayesiano**:\n",
        "\n",
        "El análisis bayesiano es útil cuando tienes información de los datos que puede ayudar a mejorar tus predicciones y cuando estas dispuesto a usar un modelo mas tardado y complejo.\n",
        "Ventajas: Permite incorporar información previa en el modelo, lo que es útil cuando se dispone de información experta o datos históricos. Puede ser especialmente útil en situaciones donde las muestras son escasas. Sin embargo, puede ser computacionalmente costoso.\n",
        "\n",
        "**Análisis Discriminante:**\n",
        "\n",
        "El análisis discriminante es una técnica que se utiliza principalmente para la clasificación, pero a diferencia de la regresión logística, puede manejar problemas de clasificación multiclase (más de dos categorías).\n",
        "Ventajas: es apropiado cuando tienes múltiples clases y deseas encontrar una forma efectiva de separarlas en función de las características disponibles.\n",
        "\n",
        "**Conclusion**\n",
        "los 3 modelos tienen un puntaje de precision perfecto lo que por un lado es bueno pero por otro lado es probable que algo este mal con los datos. Comparando los 3 modelos, el de regresion logistica tiene una separacion perfecta, lo cual sginifica que las variables predictoras pueden predecir de manera precisa y completa la variable de resultado en un problema de clasificación binaria. Esto yo creo es porque la separación puede estar relacionada con el hecho de que estoy tratando de aplicar regresión logística a un problema de clasificación multiclase, donde tengo tres clases (Setosa, Versicolor y Virginica). Por esto creo que los otros dos son mejores opciones para esta base de datos, por mas que tambien dan un accuracy score perfecto. Ya trate estandarizando los datos con los 3 modelos y de igual forma me dio 1.\n",
        "\n",
        "cambiando el test size a 0.5 en el de bayes y analisis discriminatorio, refiriendo a que el 50% del conjunto de datos se destinará al conjunto de prueba, mientras que el otro 50% se utilizará como conjunto de entrenamiento. (antes se usaba el 80% de prueba). Haciendo esto el modelo de analisis discriminatorio ya no nos da un perfect score, mientras el de Bayes si nos da un 1, lo que nos ayuda a concluir que el de Bayes es el mejor modelo para esta base de datos.\n",
        "\n",
        "Álvaro Morán Errejón"
      ],
      "metadata": {
        "id": "5YogkgNKLZ32"
      }
    }
  ]
}